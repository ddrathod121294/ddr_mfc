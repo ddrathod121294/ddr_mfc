{
 "cells": [
  {
   "cell_type": "markdown",
   "id": "0a25bae4",
   "metadata": {},
   "source": [
    "# ddr_mfc\n",
    "\n",
    "Pakcage uses alicat python package to control the alicat made mass flow controllers. This package is built upon that package. By installing this package, alicat is installed automatically as a requirement.\n",
    "\n",
    "### Install ddr_mfc\n",
    "Install ddr_davis_data using pip.\n",
    "```py\n",
    "pip install ddr_mfc\n",
    "```\n",
    "### Instantiation\n",
    "\n",
    "```py\n",
    "import ddr_mfc\n",
    "print(ddr_davis_data.version)\n",
    "```"
   ]
  },
  {
   "cell_type": "code",
   "execution_count": 1,
   "id": "bf812100",
   "metadata": {
    "tags": [
     "remove-input"
    ]
   },
   "outputs": [
    {
     "name": "stdout",
     "output_type": "stream",
     "text": [
      "0.0.2\n"
     ]
    }
   ],
   "source": [
    "%load_ext autoreload\n",
    "\n",
    "%autoreload 2\n",
    "import src.ddr_mfc as ddr_mfc\n",
    "\n",
    "print(ddr_mfc.version)"
   ]
  },
  {
   "cell_type": "markdown",
   "id": "621efd8c",
   "metadata": {},
   "source": [
    "to start the flow controller you will need to know in which port the flow controller is connected. Also the address of the flow controller is required. This can be set from the controller itself. You can go in `menu` in flow controller device and look for `address` in there somewhere. You need different address for different mfc connected with same USB camble to the PC.\n",
    "\n",
    "```py\n",
    "mfc1 = ddr_mfc.mfc(port='COM6',address='A',name='mfc_air')\n",
    "```\n",
    "\n",
    "By giving the name to the MFC, you can distinguish among the MFC data. The `read` function of the mfc used `name` as a suffix to the variable.\n",
    "\n",
    "```py\n",
    "mfc1.read()\n",
    "```\n",
    "\n",
    "This will read the data from the MFC.\n",
    "\n",
    "```py\n",
    "mfc1.set_SLPM(slpm=30)\n",
    "```\n",
    "\n",
    "This will set the SLPM to 30. Sometimes serial communication gives error. These functions uses `try-except` of python to navigate through error of serial comunication.\n",
    "\n",
    "```ddr_mfc.mfc``` class is inherited from `alicat.FlowController` class. Hence the functionalities and documentation on [ALICAT PACKAGE](https://github.com/numat/alicat) will help guide futher."
   ]
  },
  {
   "cell_type": "markdown",
   "id": "2df349bd",
   "metadata": {},
   "source": [
    "---\n",
    "---"
   ]
  }
 ],
 "metadata": {
  "kernelspec": {
   "display_name": "Python 3 (ipykernel)",
   "language": "python",
   "name": "python3"
  },
  "language_info": {
   "codemirror_mode": {
    "name": "ipython",
    "version": 3
   },
   "file_extension": ".py",
   "mimetype": "text/x-python",
   "name": "python",
   "nbconvert_exporter": "python",
   "pygments_lexer": "ipython3",
   "version": "3.10.4"
  }
 },
 "nbformat": 4,
 "nbformat_minor": 5
}
